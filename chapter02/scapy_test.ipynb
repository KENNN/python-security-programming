{
 "cells": [
  {
   "cell_type": "code",
   "execution_count": null,
   "metadata": {
    "ExecuteTime": {
     "end_time": "2019-05-03T06:25:33.009017Z",
     "start_time": "2019-05-03T06:25:31.543655Z"
    }
   },
   "outputs": [],
   "source": [
    "from scapy.all import Ether, IP, TCP, send, sr1, UDP, DNS, DNSQR"
   ]
  },
  {
   "cell_type": "code",
   "execution_count": null,
   "metadata": {
    "ExecuteTime": {
     "end_time": "2019-05-03T06:25:33.018917Z",
     "start_time": "2019-05-03T06:25:33.011987Z"
    }
   },
   "outputs": [],
   "source": [
    "tcp_pkt = Ether()/IP()/TCP()"
   ]
  },
  {
   "cell_type": "code",
   "execution_count": null,
   "metadata": {
    "ExecuteTime": {
     "end_time": "2019-05-03T06:25:33.029909Z",
     "start_time": "2019-05-03T06:25:33.022848Z"
    }
   },
   "outputs": [],
   "source": [
    "ip = IP(src='127.0.0.1', dst='8.8.8.8')\n",
    "tcp = TCP(dport=8000, flags='S')\n",
    "tcp_pkt = ip/tcp"
   ]
  },
  {
   "cell_type": "code",
   "execution_count": null,
   "metadata": {
    "ExecuteTime": {
     "end_time": "2019-05-03T06:25:33.045174Z",
     "start_time": "2019-05-03T06:25:33.033319Z"
    }
   },
   "outputs": [],
   "source": [
    "tcp_pkt"
   ]
  },
  {
   "cell_type": "code",
   "execution_count": null,
   "metadata": {
    "ExecuteTime": {
     "end_time": "2019-05-03T06:25:33.337115Z",
     "start_time": "2019-05-03T06:25:33.048136Z"
    }
   },
   "outputs": [],
   "source": [
    "send(tcp_pkt)"
   ]
  },
  {
   "cell_type": "code",
   "execution_count": null,
   "metadata": {
    "ExecuteTime": {
     "end_time": "2019-05-03T06:25:33.361470Z",
     "start_time": "2019-05-03T06:25:33.343081Z"
    }
   },
   "outputs": [],
   "source": [
    "ip = IP(dst='8.8.8.8')\n",
    "udp = UDP(dport=53)\n",
    "dns = DNS(rd=1, qd=DNSQR(qname='localhost'))\n",
    "dns_query = ip/udp/dns"
   ]
  },
  {
   "cell_type": "code",
   "execution_count": null,
   "metadata": {
    "ExecuteTime": {
     "end_time": "2019-05-03T06:25:33.683026Z",
     "start_time": "2019-05-03T06:25:33.365302Z"
    }
   },
   "outputs": [],
   "source": [
    "ans = sr1(dns_query)"
   ]
  },
  {
   "cell_type": "code",
   "execution_count": null,
   "metadata": {
    "ExecuteTime": {
     "end_time": "2019-05-03T06:25:33.734181Z",
     "start_time": "2019-05-03T06:25:33.715349Z"
    }
   },
   "outputs": [],
   "source": [
    "ans.summary()"
   ]
  },
  {
   "cell_type": "code",
   "execution_count": null,
   "metadata": {
    "ExecuteTime": {
     "end_time": "2019-05-03T06:25:33.755369Z",
     "start_time": "2019-05-03T06:25:33.746385Z"
    }
   },
   "outputs": [],
   "source": [
    "ans.show()"
   ]
  },
  {
   "cell_type": "code",
   "execution_count": null,
   "metadata": {
    "ExecuteTime": {
     "end_time": "2019-05-03T06:25:33.772080Z",
     "start_time": "2019-05-03T06:25:33.758697Z"
    }
   },
   "outputs": [],
   "source": [
    "ans['DNS']"
   ]
  },
  {
   "cell_type": "code",
   "execution_count": null,
   "metadata": {
    "ExecuteTime": {
     "end_time": "2019-05-03T06:25:33.788961Z",
     "start_time": "2019-05-03T06:25:33.776539Z"
    }
   },
   "outputs": [],
   "source": [
    "ans['DNS'].qd"
   ]
  },
  {
   "cell_type": "code",
   "execution_count": null,
   "metadata": {
    "ExecuteTime": {
     "end_time": "2019-05-03T06:25:33.801798Z",
     "start_time": "2019-05-03T06:25:33.793113Z"
    }
   },
   "outputs": [],
   "source": [
    "ans['IP'].dst"
   ]
  },
  {
   "cell_type": "code",
   "execution_count": null,
   "metadata": {},
   "outputs": [],
   "source": []
  }
 ],
 "metadata": {
  "kernelspec": {
   "display_name": "Python 3",
   "language": "python",
   "name": "python3"
  },
  "language_info": {
   "codemirror_mode": {
    "name": "ipython",
    "version": 3
   },
   "file_extension": ".py",
   "mimetype": "text/x-python",
   "name": "python",
   "nbconvert_exporter": "python",
   "pygments_lexer": "ipython3",
   "version": "3.6.4"
  },
  "toc": {
   "nav_menu": {},
   "number_sections": true,
   "sideBar": true,
   "skip_h1_title": false,
   "title_cell": "Table of Contents",
   "title_sidebar": "Contents",
   "toc_cell": false,
   "toc_position": {},
   "toc_section_display": true,
   "toc_window_display": false
  },
  "varInspector": {
   "cols": {
    "lenName": 16,
    "lenType": 16,
    "lenVar": 40
   },
   "kernels_config": {
    "python": {
     "delete_cmd_postfix": "",
     "delete_cmd_prefix": "del ",
     "library": "var_list.py",
     "varRefreshCmd": "print(var_dic_list())"
    },
    "r": {
     "delete_cmd_postfix": ") ",
     "delete_cmd_prefix": "rm(",
     "library": "var_list.r",
     "varRefreshCmd": "cat(var_dic_list()) "
    }
   },
   "types_to_exclude": [
    "module",
    "function",
    "builtin_function_or_method",
    "instance",
    "_Feature"
   ],
   "window_display": false
  }
 },
 "nbformat": 4,
 "nbformat_minor": 2
}
